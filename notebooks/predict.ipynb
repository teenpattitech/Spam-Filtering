{
 "cells": [
  {
   "cell_type": "code",
   "execution_count": 3,
   "id": "funny-northeast",
   "metadata": {},
   "outputs": [
    {
     "name": "stderr",
     "output_type": "stream",
     "text": [
      "[nltk_data] Downloading package wordnet to\n",
      "[nltk_data]     C:\\Users\\Warren\\AppData\\Roaming\\nltk_data...\n",
      "[nltk_data]   Package wordnet is already up-to-date!\n",
      "[nltk_data] Downloading package stopwords to\n",
      "[nltk_data]     C:\\Users\\Warren\\AppData\\Roaming\\nltk_data...\n",
      "[nltk_data]   Package stopwords is already up-to-date!\n"
     ]
    }
   ],
   "source": [
    "import pickle\n",
    "import nltk\n",
    "import re\n",
    "nltk.download('wordnet')\n",
    "nltk.download('stopwords')\n",
    "from nltk.stem import WordNetLemmatizer\n",
    "\n",
    "def predict_mail(mail):\n",
    "    \n",
    "    model = pickle.load(open(\"model.pckl\",mode=\"rb\"))\n",
    "    vectorizer = pickle.load(open(\"vectorizer.pckl\",mode=\"rb\"))\n",
    "    \n",
    "    lemma = WordNetLemmatizer()\n",
    "    \n",
    "    stopwords = nltk.corpus.stopwords.words('english')\n",
    "    \n",
    "    mail = re.sub(r\"http\\S+\", \"\", mail)\n",
    "    mail = re.sub(\"[^a-zA-Z0-9]\",\" \",mail)\n",
    "    mail = mail.lower()\n",
    "    mail = nltk.word_tokenize(mail)\n",
    "    mail = [lemma.lemmatize(word) for word in mail]\n",
    "    mail = [word for word in mail if word not in stopwords]\n",
    "    mail = \" \".join(mail)\n",
    "    \n",
    "    vector = vectorizer.transform([mail])\n",
    "    decision = model.predict(vector.toarray())\n",
    "    \n",
    "    return decision[0]"
   ]
  },
  {
   "cell_type": "code",
   "execution_count": 4,
   "id": "intended-investigation",
   "metadata": {},
   "outputs": [
    {
     "data": {
      "text/plain": [
       "0"
      ]
     },
     "execution_count": 4,
     "metadata": {},
     "output_type": "execute_result"
    }
   ],
   "source": [
    "predict_mail(\"\"\"Dear Coder\n",
    "Thank you for registering for CodeXpress 4.0. We appreciate you for taking the courage to sign up for this event.\n",
    "\n",
    "\n",
    "Please go through the rules for the event.\n",
    "\n",
    "The event will start at 10am onwards on the 6th of March, 2021 and the contest will be of 3 hours.\n",
    "\n",
    "\n",
    "The event will be hosted on Coding Ninjas. Therefore, make sure you have registered an account on their website.\n",
    "We suggest you practice some problem statements on their IDE so that you get a grip of their platform which may be new to you.\"\"\")"
   ]
  },
  {
   "cell_type": "code",
   "execution_count": null,
   "id": "plastic-front",
   "metadata": {},
   "outputs": [],
   "source": []
  }
 ],
 "metadata": {
  "kernelspec": {
   "display_name": "Python 3",
   "language": "python",
   "name": "python3"
  },
  "language_info": {
   "codemirror_mode": {
    "name": "ipython",
    "version": 3
   },
   "file_extension": ".py",
   "mimetype": "text/x-python",
   "name": "python",
   "nbconvert_exporter": "python",
   "pygments_lexer": "ipython3",
   "version": "3.9.2"
  }
 },
 "nbformat": 4,
 "nbformat_minor": 5
}
